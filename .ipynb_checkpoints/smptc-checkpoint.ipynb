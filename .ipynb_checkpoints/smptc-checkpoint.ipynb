{
 "cells": [
  {
   "cell_type": "code",
   "execution_count": 1,
   "id": "25525f0f",
   "metadata": {},
   "outputs": [],
   "source": [
    "# Importation des bibliothèques pandas et numpy \n",
    "import pandas as pd\n",
    "import numpy as np"
   ]
  },
  {
   "cell_type": "code",
   "execution_count": 2,
   "id": "65e1bcb3",
   "metadata": {},
   "outputs": [],
   "source": [
    "# Importation du module smtplib pour la gestion de l'envoi d'e-mails via le protocole SMTP\n",
    "import smtplib\n",
    "\n",
    "# Importation des classes MIMEMultipart, MIMEText et MIMEApplication de la bibliothèque email.mime\n",
    "from email.mime.multipart import MIMEMultipart  # Permet de créer des e-mails avec plusieurs parties\n",
    "from email.mime.text import MIMEText  # Permet de créer des parties textuelles pour les e-mails\n",
    "from email.mime.application import MIMEApplication  # Permet de créer des pièces jointes pour les e-mails"
   ]
  },
  {
   "cell_type": "markdown",
   "id": "06140629",
   "metadata": {},
   "source": [
    "# gestion des mail"
   ]
  },
  {
   "cell_type": "code",
   "execution_count": 4,
   "id": "834dac12",
   "metadata": {},
   "outputs": [],
   "source": [
    "# Lecture des données à partir du fichier Excel \"aws.xlsx\" et stockage dans un DataFrame pandas\n",
    "data = pd.read_excel('cloud_AWS.xlsx')\n",
    "\n",
    "# Extraction de la colonne 'Adresse e-mail' du DataFrame et stockage dans une liste appelée 'mail'\n",
    "mail = list(data['Adresse e-mail'])"
   ]
  },
  {
   "cell_type": "code",
   "execution_count": 20,
   "id": "45609b57",
   "metadata": {},
   "outputs": [],
   "source": [
    "for i in mail:\n",
    "    print(i[-12:])"
   ]
  },
  {
   "cell_type": "code",
   "execution_count": 153,
   "id": "753d675d",
   "metadata": {},
   "outputs": [],
   "source": [
    "# Liste de domaines de messagerie à filtrer\n",
    "liste = ['icloud.com','kdiomande ','&gmail.com','mail.coml ']\n",
    "\n",
    "# Liste pour stocker les adresses e-mail filtrées\n",
    "ngmail = []\n",
    "\n",
    "# Parcours de chaque adresse e-mail dans la liste mail\n",
    "for i in mail:\n",
    "    # Convertit i en chaîne de caractères au cas où ce ne serait pas déjà le cas\n",
    "    i = str(i)\n",
    "    \n",
    "    # Vérifie si les 10 derniers caractères de l'adresse e-mail sont dans la liste de domaines de messagerie\n",
    "    if i[-10:] in liste:\n",
    "        # Si oui, ajoute l'adresse e-mail à la liste ngmail\n",
    "        ngmail.append(i)\n",
    "\n",
    "# Parcours de chaque adresse e-mail filtrée dans la liste ngmail\n",
    "for i in ngmail:\n",
    "    # Supprime l'adresse e-mail de la liste d'origine mail\n",
    "    mail.remove(i)"
   ]
  },
  {
   "cell_type": "code",
   "execution_count": 154,
   "id": "1a7bfdec",
   "metadata": {},
   "outputs": [
    {
     "data": {
      "text/plain": [
       "['nafanda1990@icloud.com',\n",
       " 'Konekadi25icloud.com',\n",
       " 'louafranckdiomande ',\n",
       " 'AndyKarole384&gmail.com',\n",
       " 'cyrilleamou@icloud.com',\n",
       " 'Cheikidris@icloud.com',\n",
       " 'lineyao65@gmail.coml ']"
      ]
     },
     "execution_count": 154,
     "metadata": {},
     "output_type": "execute_result"
    }
   ],
   "source": [
    "ngmail"
   ]
  },
  {
   "cell_type": "markdown",
   "id": "ac5a7207",
   "metadata": {},
   "source": [
    "# envoi de e-mails"
   ]
  },
  {
   "cell_type": "code",
   "execution_count": 16,
   "id": "d2d2eb09",
   "metadata": {},
   "outputs": [],
   "source": [
    "\n",
    "def send_to_list(gmails,expediteur,mot_de_passe,sujet):\n",
    "     # # Définition de l'heure de départ et du compteur\n",
    "     # heure = 10\n",
    "     # count = 0\n",
    "\n",
    "     # Parcours de chaque adresse e-mail dans la liste mail\n",
    "    for i in gmails:\n",
    "   #     # Vérifie si le compteur atteint 30\n",
    "   #     if count == 30:\n",
    "   #         # Réinitialise le compteur et incrémente l'heure\n",
    "   #         count = 0\n",
    "   #         heure += 1\n",
    "    \n",
    "   #     # Incrémente le compteur\n",
    "   #     count += 1\n",
    "\n",
    "\n",
    "        # Adresse e-mail du destinataire\n",
    "        destinataire = f\"{i}\"\n",
    "\n",
    "        # Corps du message avec l'heure mise à jour\n",
    "        corps = \"Bonsoir,\\n\\nNous sommes à la dernière étape de la sélection pour la formation Cloud AWS. Dans cette étape, nous vous convions à un entretien de motivation qui aura lieu ce mercredi 25 octobre 2023 à 10H00 à la  Villa Simplon (à la palmeraie vers carrefour Guiraud) dont voici géolocalisation :\\nhttps://goo.gl/maps/FaoHdZqfmGDBRQst9\\nVous trouverez ci-joint des images google map qui vous permettront de mieux vous orienter.\\nContact : 0503382155\\n\\n\\nCordialement,\\nAbdoul Aziz NDIAYE\\nData Scientist & Formateur en IA\"\n",
    "        # Création du message MIME\n",
    "        message = MIMEMultipart()\n",
    "        message[\"From\"] = expediteur\n",
    "        message[\"To\"] = destinataire\n",
    "        message[\"Subject\"] = sujet\n",
    "    \n",
    "        # Ajout du corps du message\n",
    "        message.attach(MIMEText(corps, \"plain\")) \n",
    "    \n",
    "       # Pièce jointe PDF\n",
    "#     piece_jointe = \"Test_en_ligne_AWS.pdf\"\n",
    "#     with open(piece_jointe, \"rb\") as fichier_pdf: \n",
    "\n",
    "#         pdf = MIMEApplication(fichier_pdf.read(), _subtype=\"pdf\")\n",
    "#         pdf.add_header(\"content-disposition\", \"attachment\", filename=\"Test.pdf\")\n",
    "#         message.attach(pdf)\n",
    "     \n",
    "        # Configuration du serveur SMTP de Gmail\n",
    "        serveur_smtp = smtplib.SMTP(\"smtp.gmail.com\", 587)\n",
    "        serveur_smtp.starttls()\n",
    "    \n",
    "        # Connexion au compte expéditeur\n",
    "        serveur_smtp.login(expediteur, mot_de_passe)\n",
    "        try:\n",
    "            # Envoi de l'e-mail\n",
    "            serveur_smtp.sendmail(expediteur, destinataire, message.as_string())\n",
    "            print(f\"L'e-mail a été envoyé à {destinataire} avec succès.\")\n",
    "        except Exception as e:\n",
    "            \n",
    "            print(f\"Erreur lors de l'envoi de l'e-mail à {destinataire}: {str(e)}\")\n",
    "        # Fermeture de la connexion SMTP\n",
    "        serveur_smtp.quit()"
   ]
  },
  {
   "cell_type": "code",
   "execution_count": 19,
   "id": "020a1a34",
   "metadata": {},
   "outputs": [],
   "source": [
    "expediteur =\"andiaye.ext@simplon.co\"\n",
    "mot_de_passe =\"mhnxtsumvgqxqvhq\"\n",
    "sujet = \"Entretien de motivation\"\n",
    "send_to_list(mail,expediteur,mot_de_passe,sujet)"
   ]
  }
 ],
 "metadata": {
  "kernelspec": {
   "display_name": "Python 3 (ipykernel)",
   "language": "python",
   "name": "python3"
  },
  "language_info": {
   "codemirror_mode": {
    "name": "ipython",
    "version": 3
   },
   "file_extension": ".py",
   "mimetype": "text/x-python",
   "name": "python",
   "nbconvert_exporter": "python",
   "pygments_lexer": "ipython3",
   "version": "3.11.5"
  }
 },
 "nbformat": 4,
 "nbformat_minor": 5
}
