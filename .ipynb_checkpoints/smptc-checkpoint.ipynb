{
 "cells": [
  {
   "cell_type": "code",
   "execution_count": 1,
   "id": "25525f0f",
   "metadata": {},
   "outputs": [],
   "source": [
    "# Importation des bibliothèques pandas et numpy \n",
    "import pandas as pd\n",
    "import numpy as np"
   ]
  },
  {
   "cell_type": "code",
   "execution_count": 2,
   "id": "65e1bcb3",
   "metadata": {},
   "outputs": [],
   "source": [
    "# Importation du module smtplib pour la gestion de l'envoi d'e-mails via le protocole SMTP\n",
    "import smtplib\n",
    "\n",
    "# Importation des classes MIMEMultipart, MIMEText et MIMEApplication de la bibliothèque email.mime\n",
    "from email.mime.multipart import MIMEMultipart  # Permet de créer des e-mails avec plusieurs parties\n",
    "from email.mime.text import MIMEText  # Permet de créer des parties textuelles pour les e-mails\n",
    "from email.mime.application import MIMEApplication  # Permet de créer des pièces jointes pour les e-mails"
   ]
  },
  {
   "cell_type": "markdown",
   "id": "06140629",
   "metadata": {},
   "source": [
    "# gestion des mail"
   ]
  },
  {
   "cell_type": "code",
   "execution_count": 3,
   "id": "834dac12",
   "metadata": {},
   "outputs": [],
   "source": [
    "# Lecture des données à partir du fichier Excel \"aws.xlsx\" et stockage dans un DataFrame pandas\n",
    "data = pd.read_excel('cloud_AWS.xlsx')\n",
    "\n",
    "# Extraction de la colonne 'Adresse e-mail' du DataFrame et stockage dans une liste appelée 'mail'\n",
    "mail = list(data['Adresse e-mail'])"
   ]
  },
  {
   "cell_type": "code",
   "execution_count": 5,
   "id": "45609b57",
   "metadata": {},
   "outputs": [
    {
     "name": "stdout",
     "output_type": "stream",
     "text": [
      "ub@gmail.com\n",
      "25@gmail.com\n",
      "hi@gmail.com\n",
      "09@gmail.com\n",
      "na@gmail.com\n",
      "05@gmail.com\n",
      "62@gmail.com\n",
      "38@gmail.com\n",
      "te@gmail.com\n",
      "id@gmail.com\n",
      "62@gmail.com\n",
      "me@gmail.com\n",
      "07@gmail.com\n",
      "27@gmail.com\n",
      "co@gmail.com\n",
      "ba@gmail.com\n",
      "ch@gmail.com\n",
      "08@gmail.com\n",
      "no@gmail.com\n",
      "04@gmail.com\n",
      "69@gmail.com\n",
      "3@icloud.com\n",
      "10@gmail.com\n",
      "39@gmail.com\n",
      "59@gmail.com\n",
      "uvci.edu.ci \n",
      "8@gmail.com \n",
      "ie@gmail.com\n",
      "1@gmail.com \n",
      "86@gmail.com\n",
      "ki@gmail.com\n",
      "a4@gmail.com\n",
      "81@gmail.com\n",
      "e9@gmail.com\n",
      "pe@gmail.com\n",
      "00@gmail.com\n",
      "te@gmail.com\n",
      "52@gmail.com\n",
      "er@gmail.com\n",
      "ri@gmail.com\n",
      "48@gmail.com\n",
      "22@gmail.com\n",
      "uvci.edu.ci \n",
      "48@gmail.com\n",
      "47@gmail.com\n",
      "57@gmail.com\n",
      "10@gmail.com\n",
      "e1@gmail.com\n",
      "p62@mail.com\n",
      "61@yahoo.com\n",
      "25@gmail.com\n",
      "94@gmail.com\n",
      "ic@gmail.com\n",
      "01@gmail.com\n",
      "lo@gmail.com\n",
      "n.85@live.fr\n",
      "us@gmail.com\n",
      "ue@gmail.com\n",
      "5@gmail.com \n",
      "5@gmail.com \n",
      "6@gmail.com \n",
      "19@gmail.com\n",
      "4@gmail.com \n",
      "jo@gmail.com\n",
      "ki@gmail.com\n",
      "ej@gmail.com\n",
      "en@gmail.com\n",
      "79@gmail.com\n",
      "ck@gmail.com\n",
      "ck@gmail.com\n",
      "h4@gmail.com\n",
      "99@gmail.com\n",
      "08@gmail.com\n"
     ]
    }
   ],
   "source": [
    "for i in mail:\n",
    "    print(i[-12:])"
   ]
  },
  {
   "cell_type": "code",
   "execution_count": 153,
   "id": "753d675d",
   "metadata": {},
   "outputs": [],
   "source": [
    "# Liste de domaines de messagerie à filtrer\n",
    "liste = ['icloud.com','kdiomande ','&gmail.com','mail.coml ']\n",
    "\n",
    "# Liste pour stocker les adresses e-mail filtrées\n",
    "ngmail = []\n",
    "\n",
    "# Parcours de chaque adresse e-mail dans la liste mail\n",
    "for i in mail:\n",
    "    # Convertit i en chaîne de caractères au cas où ce ne serait pas déjà le cas\n",
    "    i = str(i)\n",
    "    \n",
    "    # Vérifie si les 10 derniers caractères de l'adresse e-mail sont dans la liste de domaines de messagerie\n",
    "    if i[-10:] in liste:\n",
    "        # Si oui, ajoute l'adresse e-mail à la liste ngmail\n",
    "        ngmail.append(i)\n",
    "\n",
    "# Parcours de chaque adresse e-mail filtrée dans la liste ngmail\n",
    "for i in ngmail:\n",
    "    # Supprime l'adresse e-mail de la liste d'origine mail\n",
    "    mail.remove(i)"
   ]
  },
  {
   "cell_type": "code",
   "execution_count": 154,
   "id": "1a7bfdec",
   "metadata": {},
   "outputs": [
    {
     "data": {
      "text/plain": [
       "['nafanda1990@icloud.com',\n",
       " 'Konekadi25icloud.com',\n",
       " 'louafranckdiomande ',\n",
       " 'AndyKarole384&gmail.com',\n",
       " 'cyrilleamou@icloud.com',\n",
       " 'Cheikidris@icloud.com',\n",
       " 'lineyao65@gmail.coml ']"
      ]
     },
     "execution_count": 154,
     "metadata": {},
     "output_type": "execute_result"
    }
   ],
   "source": [
    "ngmail"
   ]
  },
  {
   "cell_type": "markdown",
   "id": "ac5a7207",
   "metadata": {},
   "source": [
    "# envoi de e-mails"
   ]
  },
  {
   "cell_type": "code",
   "execution_count": 8,
   "id": "c18213a8",
   "metadata": {},
   "outputs": [],
   "source": [
    "expediteur =\"mail\"\n",
    "mot_de_passe =\"pass\"\n",
    "sujet = \"Test en ligne\""
   ]
  },
  {
   "cell_type": "code",
   "execution_count": 27,
   "id": "d2d2eb09",
   "metadata": {},
   "outputs": [
    {
     "name": "stdout",
     "output_type": "stream",
     "text": [
      "L'e-mail a été envoyé à cl.faraban@gmail.com avec succès.\n"
     ]
    },
    {
     "data": {
      "text/plain": [
       "(221,\n",
       " b'2.0.0 closing connection a14-20020a170906190e00b0099b7276235esm34333eje.93 - gsmtp')"
      ]
     },
     "execution_count": 27,
     "metadata": {},
     "output_type": "execute_result"
    }
   ],
   "source": [
    "# Définition de l'heure de départ et du compteur\n",
    "heure = 10\n",
    "count = 0\n",
    "\n",
    "# Parcours de chaque adresse e-mail dans la liste mail\n",
    "for i in Test:\n",
    "    # Vérifie si le compteur atteint 30\n",
    "    if count == 30:\n",
    "        # Réinitialise le compteur et incrémente l'heure\n",
    "        count = 0\n",
    "        heure += 1\n",
    "    \n",
    "    # Incrémente le compteur\n",
    "    count += 1\n",
    "\n",
    "    # Adresse e-mail du destinataire\n",
    "    destinataire = f\"{i}\"\n",
    "\n",
    "    # Corps du message avec l'heure mise à jour\n",
    "    corps = \"Bonsoir,\\n \\nJ'espère que vous allez super bien.\\n\\nNous sommes à la deuxième étape de la sélection pour la formation Cloud AWS. Dans cette étape nous vous invitons à faire l’exercice disponible à travers ce lien :\\nhttps://drive.google.com/file/d/1WUwo1mqWIqzcSAA4D9FzLq76aHBO0GSl/view?usp=sharing\\nLa date limite pour finaliser vos évaluations est le  le jeudi 19 Octobre 2023 à 18h00 GMT \\nNB: merci de bien lire les instructions \\n\\n\\n\\nCordialement,\\nAbdoul Aziz NDIAYE \\nData Scientist & Formateur en IA\"\n",
    "    # Création du message MIME\n",
    "    message = MIMEMultipart()\n",
    "    message[\"From\"] = expediteur\n",
    "    message[\"To\"] = destinataire\n",
    "    message[\"Subject\"] = sujet\n",
    "    \n",
    "    # Ajout du corps du message\n",
    "    message.attach(MIMEText(corps, \"plain\")) \n",
    "    \n",
    "    # Pièce jointe PDF\n",
    "    piece_jointe = \"Test_en_ligne_AWS.pdf\"\n",
    "    with open(piece_jointe, \"rb\") as fichier_pdf:\n",
    "        pdf = MIMEApplication(fichier_pdf.read(), _subtype=\"pdf\")\n",
    "        pdf.add_header(\"content-disposition\", \"attachment\", filename=\"Test.pdf\")\n",
    "        message.attach(pdf)\n",
    "     \n",
    "    # Configuration du serveur SMTP de Gmail\n",
    "    serveur_smtp = smtplib.SMTP(\"smtp.gmail.com\", 587)\n",
    "    serveur_smtp.starttls()\n",
    "    \n",
    "    # Connexion au compte expéditeur\n",
    "    serveur_smtp.login(expediteur, mot_de_passe)\n",
    "    try:\n",
    "        # Envoi de l'e-mail\n",
    "        serveur_smtp.sendmail(expediteur, destinataire, message.as_string())\n",
    "        print(f\"L'e-mail a été envoyé à {destinataire} avec succès.\")\n",
    "    except Exception as e:\n",
    "        print(f\"Erreur lors de l'envoi de l'e-mail à {destinataire}: {str(e)}\")\n",
    "\n",
    "# Fermeture de la connexion SMTP\n",
    "serveur_smtp.quit()"
   ]
  }
 ],
 "metadata": {
  "kernelspec": {
   "display_name": "Python 3 (ipykernel)",
   "language": "python",
   "name": "python3"
  },
  "language_info": {
   "codemirror_mode": {
    "name": "ipython",
    "version": 3
   },
   "file_extension": ".py",
   "mimetype": "text/x-python",
   "name": "python",
   "nbconvert_exporter": "python",
   "pygments_lexer": "ipython3",
   "version": "3.9.12"
  }
 },
 "nbformat": 4,
 "nbformat_minor": 5
}
